{
 "cells": [
  {
   "cell_type": "code",
   "id": "initial_id",
   "metadata": {
    "collapsed": true,
    "ExecuteTime": {
     "end_time": "2025-07-05T18:16:49.786188Z",
     "start_time": "2025-07-05T18:16:49.754830Z"
    }
   },
   "source": [
    "from dotenv import load_dotenv\n",
    "load_dotenv()"
   ],
   "outputs": [
    {
     "data": {
      "text/plain": [
       "True"
      ]
     },
     "execution_count": 1,
     "metadata": {},
     "output_type": "execute_result"
    }
   ],
   "execution_count": 1
  },
  {
   "metadata": {
    "ExecuteTime": {
     "end_time": "2025-07-05T18:16:57.482974Z",
     "start_time": "2025-07-05T18:16:51.486985Z"
    }
   },
   "cell_type": "code",
   "source": [
    "from crewai import LLM\n",
    "\n",
    "llm = LLM(\n",
    "    model=\"gemini/gemini-2.0-flash\",\n",
    "    temperature=0.1\n",
    ")\n",
    "llm.call(\"Who invented transcendental meditation.\")"
   ],
   "id": "3375cfe73b2aef0",
   "outputs": [
    {
     "data": {
      "text/plain": [
       "'Transcendental Meditation (TM) was popularized by **Maharishi Mahesh Yogi**.\\n'"
      ]
     },
     "execution_count": 2,
     "metadata": {},
     "output_type": "execute_result"
    }
   ],
   "execution_count": 2
  },
  {
   "metadata": {
    "ExecuteTime": {
     "end_time": "2025-07-05T18:18:19.801309Z",
     "start_time": "2025-07-05T18:18:18.080970Z"
    }
   },
   "cell_type": "code",
   "source": [
    "from crewai import Agent, Task, Crew\n",
    "\n",
    "email_assistant = Agent(\n",
    "    role=\"Email Assistant Agent\",\n",
    "    goal=\"Improve emails and make them sound professional and clear\",\n",
    "    backstory=\"A highly experienced communication expert skilled in professional email writing\",\n",
    "    verbose=True,\n",
    "    llm=llm\n",
    ")\n",
    "\n",
    "original_email = \"\"\"\n",
    "hey team, just wanted to tell u that the demo is kind of ready, but there's still stuff left.\n",
    "Maybe we can show what we have and say rest is WIP.\n",
    "Let me know what u think. thanks\n",
    "\"\"\"\n",
    "\n",
    "email_task = Task(\n",
    "    description=f\"\"\"Take the following rough email and rewrite it into a professional and polished version.\n",
    "    Expand abbreviations:\n",
    "    '''{original_email}'''\"\"\",\n",
    "    agent=email_assistant,\n",
    "    expected_output=\"A professional written email with proper formatting and content.\",\n",
    ")\n",
    "\n",
    "crew = Crew(\n",
    "    agents=[email_assistant],\n",
    "    tasks=[email_task],\n",
    "    verbose=True\n",
    ")\n",
    "\n",
    "result = crew.kickoff()\n",
    "print(result)"
   ],
   "id": "fba4dd68e5c3e1bc",
   "outputs": [
    {
     "data": {
      "text/plain": [
       "\u001B[36m╭─\u001B[0m\u001B[36m───────────────────────────────────────────\u001B[0m\u001B[36m Crew Execution Started \u001B[0m\u001B[36m────────────────────────────────────────────\u001B[0m\u001B[36m─╮\u001B[0m\n",
       "\u001B[36m│\u001B[0m                                                                                                                 \u001B[36m│\u001B[0m\n",
       "\u001B[36m│\u001B[0m  \u001B[1;36mCrew Execution Started\u001B[0m                                                                                         \u001B[36m│\u001B[0m\n",
       "\u001B[36m│\u001B[0m  \u001B[37mName: \u001B[0m\u001B[36mcrew\u001B[0m                                                                                                     \u001B[36m│\u001B[0m\n",
       "\u001B[36m│\u001B[0m  \u001B[37mID: \u001B[0m\u001B[36mba1bf041-9fa6-4dd3-837d-9b6b2a45b1a1\u001B[0m                                                                       \u001B[36m│\u001B[0m\n",
       "\u001B[36m│\u001B[0m  \u001B[37mTool Args: \u001B[0m                                                                                                    \u001B[36m│\u001B[0m\n",
       "\u001B[36m│\u001B[0m                                                                                                                 \u001B[36m│\u001B[0m\n",
       "\u001B[36m│\u001B[0m                                                                                                                 \u001B[36m│\u001B[0m\n",
       "\u001B[36m╰─────────────────────────────────────────────────────────────────────────────────────────────────────────────────╯\u001B[0m\n"
      ],
      "text/html": [
       "<pre style=\"white-space:pre;overflow-x:auto;line-height:normal;font-family:Menlo,'DejaVu Sans Mono',consolas,'Courier New',monospace\"><span style=\"color: #008080; text-decoration-color: #008080\">╭──────────────────────────────────────────── Crew Execution Started ─────────────────────────────────────────────╮</span>\n",
       "<span style=\"color: #008080; text-decoration-color: #008080\">│</span>                                                                                                                 <span style=\"color: #008080; text-decoration-color: #008080\">│</span>\n",
       "<span style=\"color: #008080; text-decoration-color: #008080\">│</span>  <span style=\"color: #008080; text-decoration-color: #008080; font-weight: bold\">Crew Execution Started</span>                                                                                         <span style=\"color: #008080; text-decoration-color: #008080\">│</span>\n",
       "<span style=\"color: #008080; text-decoration-color: #008080\">│</span>  <span style=\"color: #c0c0c0; text-decoration-color: #c0c0c0\">Name: </span><span style=\"color: #008080; text-decoration-color: #008080\">crew</span>                                                                                                     <span style=\"color: #008080; text-decoration-color: #008080\">│</span>\n",
       "<span style=\"color: #008080; text-decoration-color: #008080\">│</span>  <span style=\"color: #c0c0c0; text-decoration-color: #c0c0c0\">ID: </span><span style=\"color: #008080; text-decoration-color: #008080\">ba1bf041-9fa6-4dd3-837d-9b6b2a45b1a1</span>                                                                       <span style=\"color: #008080; text-decoration-color: #008080\">│</span>\n",
       "<span style=\"color: #008080; text-decoration-color: #008080\">│</span>  <span style=\"color: #c0c0c0; text-decoration-color: #c0c0c0\">Tool Args: </span>                                                                                                    <span style=\"color: #008080; text-decoration-color: #008080\">│</span>\n",
       "<span style=\"color: #008080; text-decoration-color: #008080\">│</span>                                                                                                                 <span style=\"color: #008080; text-decoration-color: #008080\">│</span>\n",
       "<span style=\"color: #008080; text-decoration-color: #008080\">│</span>                                                                                                                 <span style=\"color: #008080; text-decoration-color: #008080\">│</span>\n",
       "<span style=\"color: #008080; text-decoration-color: #008080\">╰─────────────────────────────────────────────────────────────────────────────────────────────────────────────────╯</span>\n",
       "</pre>\n"
      ]
     },
     "metadata": {},
     "output_type": "display_data"
    },
    {
     "data": {
      "text/plain": [
       "\n"
      ],
      "text/html": [
       "<pre style=\"white-space:pre;overflow-x:auto;line-height:normal;font-family:Menlo,'DejaVu Sans Mono',consolas,'Courier New',monospace\">\n",
       "</pre>\n"
      ]
     },
     "metadata": {},
     "output_type": "display_data"
    },
    {
     "data": {
      "text/plain": [],
      "text/html": [
       "<pre style=\"white-space:pre;overflow-x:auto;line-height:normal;font-family:Menlo,'DejaVu Sans Mono',consolas,'Courier New',monospace\"></pre>\n"
      ]
     },
     "metadata": {},
     "output_type": "display_data"
    },
    {
     "data": {
      "text/plain": [
       "\u001B[35m╭─\u001B[0m\u001B[35m──────────────────────────────────────────────\u001B[0m\u001B[35m 🤖 Agent Started \u001B[0m\u001B[35m───────────────────────────────────────────────\u001B[0m\u001B[35m─╮\u001B[0m\n",
       "\u001B[35m│\u001B[0m                                                                                                                 \u001B[35m│\u001B[0m\n",
       "\u001B[35m│\u001B[0m  \u001B[37mAgent: \u001B[0m\u001B[1;92mEmail Assistant Agent\u001B[0m                                                                                   \u001B[35m│\u001B[0m\n",
       "\u001B[35m│\u001B[0m                                                                                                                 \u001B[35m│\u001B[0m\n",
       "\u001B[35m│\u001B[0m  \u001B[37mTask: \u001B[0m\u001B[92mTake the following rough email and rewrite it into a professional and polished version:\u001B[0m                  \u001B[35m│\u001B[0m\n",
       "\u001B[35m│\u001B[0m  \u001B[92m    '''\u001B[0m                                                                                                        \u001B[35m│\u001B[0m\n",
       "\u001B[35m│\u001B[0m  \u001B[92mhey team, just wanted to tell u that the demo is kind of ready, but there's still stuff left.\u001B[0m                  \u001B[35m│\u001B[0m\n",
       "\u001B[35m│\u001B[0m  \u001B[92mMaybe we can show what we have and say rest is WIP.\u001B[0m                                                            \u001B[35m│\u001B[0m\n",
       "\u001B[35m│\u001B[0m  \u001B[92mLet me know what u think. thanks\u001B[0m                                                                               \u001B[35m│\u001B[0m\n",
       "\u001B[35m│\u001B[0m  \u001B[92m'''\u001B[0m                                                                                                            \u001B[35m│\u001B[0m\n",
       "\u001B[35m│\u001B[0m                                                                                                                 \u001B[35m│\u001B[0m\n",
       "\u001B[35m╰─────────────────────────────────────────────────────────────────────────────────────────────────────────────────╯\u001B[0m\n"
      ],
      "text/html": [
       "<pre style=\"white-space:pre;overflow-x:auto;line-height:normal;font-family:Menlo,'DejaVu Sans Mono',consolas,'Courier New',monospace\"><span style=\"color: #800080; text-decoration-color: #800080\">╭─────────────────────────────────────────────── 🤖 Agent Started ────────────────────────────────────────────────╮</span>\n",
       "<span style=\"color: #800080; text-decoration-color: #800080\">│</span>                                                                                                                 <span style=\"color: #800080; text-decoration-color: #800080\">│</span>\n",
       "<span style=\"color: #800080; text-decoration-color: #800080\">│</span>  <span style=\"color: #c0c0c0; text-decoration-color: #c0c0c0\">Agent: </span><span style=\"color: #00ff00; text-decoration-color: #00ff00; font-weight: bold\">Email Assistant Agent</span>                                                                                   <span style=\"color: #800080; text-decoration-color: #800080\">│</span>\n",
       "<span style=\"color: #800080; text-decoration-color: #800080\">│</span>                                                                                                                 <span style=\"color: #800080; text-decoration-color: #800080\">│</span>\n",
       "<span style=\"color: #800080; text-decoration-color: #800080\">│</span>  <span style=\"color: #c0c0c0; text-decoration-color: #c0c0c0\">Task: </span><span style=\"color: #00ff00; text-decoration-color: #00ff00\">Take the following rough email and rewrite it into a professional and polished version:</span>                  <span style=\"color: #800080; text-decoration-color: #800080\">│</span>\n",
       "<span style=\"color: #800080; text-decoration-color: #800080\">│</span>  <span style=\"color: #00ff00; text-decoration-color: #00ff00\">    '''</span>                                                                                                        <span style=\"color: #800080; text-decoration-color: #800080\">│</span>\n",
       "<span style=\"color: #800080; text-decoration-color: #800080\">│</span>  <span style=\"color: #00ff00; text-decoration-color: #00ff00\">hey team, just wanted to tell u that the demo is kind of ready, but there's still stuff left.</span>                  <span style=\"color: #800080; text-decoration-color: #800080\">│</span>\n",
       "<span style=\"color: #800080; text-decoration-color: #800080\">│</span>  <span style=\"color: #00ff00; text-decoration-color: #00ff00\">Maybe we can show what we have and say rest is WIP.</span>                                                            <span style=\"color: #800080; text-decoration-color: #800080\">│</span>\n",
       "<span style=\"color: #800080; text-decoration-color: #800080\">│</span>  <span style=\"color: #00ff00; text-decoration-color: #00ff00\">Let me know what u think. thanks</span>                                                                               <span style=\"color: #800080; text-decoration-color: #800080\">│</span>\n",
       "<span style=\"color: #800080; text-decoration-color: #800080\">│</span>  <span style=\"color: #00ff00; text-decoration-color: #00ff00\">'''</span>                                                                                                            <span style=\"color: #800080; text-decoration-color: #800080\">│</span>\n",
       "<span style=\"color: #800080; text-decoration-color: #800080\">│</span>                                                                                                                 <span style=\"color: #800080; text-decoration-color: #800080\">│</span>\n",
       "<span style=\"color: #800080; text-decoration-color: #800080\">╰─────────────────────────────────────────────────────────────────────────────────────────────────────────────────╯</span>\n",
       "</pre>\n"
      ]
     },
     "metadata": {},
     "output_type": "display_data"
    },
    {
     "data": {
      "text/plain": [
       "\n"
      ],
      "text/html": [
       "<pre style=\"white-space:pre;overflow-x:auto;line-height:normal;font-family:Menlo,'DejaVu Sans Mono',consolas,'Courier New',monospace\">\n",
       "</pre>\n"
      ]
     },
     "metadata": {},
     "output_type": "display_data"
    },
    {
     "data": {
      "text/plain": [],
      "text/html": [
       "<pre style=\"white-space:pre;overflow-x:auto;line-height:normal;font-family:Menlo,'DejaVu Sans Mono',consolas,'Courier New',monospace\"></pre>\n"
      ]
     },
     "metadata": {},
     "output_type": "display_data"
    },
    {
     "data": {
      "text/plain": [
       "\u001B[32m╭─\u001B[0m\u001B[32m────────────────────────────────────────────\u001B[0m\u001B[32m ✅ Agent Final Answer \u001B[0m\u001B[32m────────────────────────────────────────────\u001B[0m\u001B[32m─╮\u001B[0m\n",
       "\u001B[32m│\u001B[0m                                                                                                                 \u001B[32m│\u001B[0m\n",
       "\u001B[32m│\u001B[0m  \u001B[37mAgent: \u001B[0m\u001B[1;92mEmail Assistant Agent\u001B[0m                                                                                   \u001B[32m│\u001B[0m\n",
       "\u001B[32m│\u001B[0m                                                                                                                 \u001B[32m│\u001B[0m\n",
       "\u001B[32m│\u001B[0m  \u001B[37mFinal Answer:\u001B[0m                                                                                                  \u001B[32m│\u001B[0m\n",
       "\u001B[32m│\u001B[0m  \u001B[92mSubject: Demo Readiness and Presentation Strategy\u001B[0m                                                              \u001B[32m│\u001B[0m\n",
       "\u001B[32m│\u001B[0m                                                                                                                 \u001B[32m│\u001B[0m\n",
       "\u001B[32m│\u001B[0m  \u001B[92mDear Team,\u001B[0m                                                                                                     \u001B[32m│\u001B[0m\n",
       "\u001B[32m│\u001B[0m                                                                                                                 \u001B[32m│\u001B[0m\n",
       "\u001B[32m│\u001B[0m  \u001B[92mI am writing to provide an update on the demo. While it is nearing completion, there are still some \u001B[0m           \u001B[32m│\u001B[0m\n",
       "\u001B[32m│\u001B[0m  \u001B[92moutstanding items that require further attention.\u001B[0m                                                              \u001B[32m│\u001B[0m\n",
       "\u001B[32m│\u001B[0m                                                                                                                 \u001B[32m│\u001B[0m\n",
       "\u001B[32m│\u001B[0m  \u001B[92mI propose that we proceed with presenting the current version of the demo, clearly indicating that certain \u001B[0m    \u001B[32m│\u001B[0m\n",
       "\u001B[32m│\u001B[0m  \u001B[92mfeatures are still work-in-progress (WIP). This will allow us to showcase the progress made and gather \u001B[0m        \u001B[32m│\u001B[0m\n",
       "\u001B[32m│\u001B[0m  \u001B[92mvaluable feedback.\u001B[0m                                                                                             \u001B[32m│\u001B[0m\n",
       "\u001B[32m│\u001B[0m                                                                                                                 \u001B[32m│\u001B[0m\n",
       "\u001B[32m│\u001B[0m  \u001B[92mPlease let me know your thoughts on this approach. Your input is highly valued.\u001B[0m                                \u001B[32m│\u001B[0m\n",
       "\u001B[32m│\u001B[0m                                                                                                                 \u001B[32m│\u001B[0m\n",
       "\u001B[32m│\u001B[0m  \u001B[92mThank you,\u001B[0m                                                                                                     \u001B[32m│\u001B[0m\n",
       "\u001B[32m│\u001B[0m  \u001B[92m[Your Name]\u001B[0m                                                                                                    \u001B[32m│\u001B[0m\n",
       "\u001B[32m│\u001B[0m                                                                                                                 \u001B[32m│\u001B[0m\n",
       "\u001B[32m╰─────────────────────────────────────────────────────────────────────────────────────────────────────────────────╯\u001B[0m\n"
      ],
      "text/html": [
       "<pre style=\"white-space:pre;overflow-x:auto;line-height:normal;font-family:Menlo,'DejaVu Sans Mono',consolas,'Courier New',monospace\"><span style=\"color: #008000; text-decoration-color: #008000\">╭───────────────────────────────────────────── ✅ Agent Final Answer ─────────────────────────────────────────────╮</span>\n",
       "<span style=\"color: #008000; text-decoration-color: #008000\">│</span>                                                                                                                 <span style=\"color: #008000; text-decoration-color: #008000\">│</span>\n",
       "<span style=\"color: #008000; text-decoration-color: #008000\">│</span>  <span style=\"color: #c0c0c0; text-decoration-color: #c0c0c0\">Agent: </span><span style=\"color: #00ff00; text-decoration-color: #00ff00; font-weight: bold\">Email Assistant Agent</span>                                                                                   <span style=\"color: #008000; text-decoration-color: #008000\">│</span>\n",
       "<span style=\"color: #008000; text-decoration-color: #008000\">│</span>                                                                                                                 <span style=\"color: #008000; text-decoration-color: #008000\">│</span>\n",
       "<span style=\"color: #008000; text-decoration-color: #008000\">│</span>  <span style=\"color: #c0c0c0; text-decoration-color: #c0c0c0\">Final Answer:</span>                                                                                                  <span style=\"color: #008000; text-decoration-color: #008000\">│</span>\n",
       "<span style=\"color: #008000; text-decoration-color: #008000\">│</span>  <span style=\"color: #00ff00; text-decoration-color: #00ff00\">Subject: Demo Readiness and Presentation Strategy</span>                                                              <span style=\"color: #008000; text-decoration-color: #008000\">│</span>\n",
       "<span style=\"color: #008000; text-decoration-color: #008000\">│</span>                                                                                                                 <span style=\"color: #008000; text-decoration-color: #008000\">│</span>\n",
       "<span style=\"color: #008000; text-decoration-color: #008000\">│</span>  <span style=\"color: #00ff00; text-decoration-color: #00ff00\">Dear Team,</span>                                                                                                     <span style=\"color: #008000; text-decoration-color: #008000\">│</span>\n",
       "<span style=\"color: #008000; text-decoration-color: #008000\">│</span>                                                                                                                 <span style=\"color: #008000; text-decoration-color: #008000\">│</span>\n",
       "<span style=\"color: #008000; text-decoration-color: #008000\">│</span>  <span style=\"color: #00ff00; text-decoration-color: #00ff00\">I am writing to provide an update on the demo. While it is nearing completion, there are still some </span>           <span style=\"color: #008000; text-decoration-color: #008000\">│</span>\n",
       "<span style=\"color: #008000; text-decoration-color: #008000\">│</span>  <span style=\"color: #00ff00; text-decoration-color: #00ff00\">outstanding items that require further attention.</span>                                                              <span style=\"color: #008000; text-decoration-color: #008000\">│</span>\n",
       "<span style=\"color: #008000; text-decoration-color: #008000\">│</span>                                                                                                                 <span style=\"color: #008000; text-decoration-color: #008000\">│</span>\n",
       "<span style=\"color: #008000; text-decoration-color: #008000\">│</span>  <span style=\"color: #00ff00; text-decoration-color: #00ff00\">I propose that we proceed with presenting the current version of the demo, clearly indicating that certain </span>    <span style=\"color: #008000; text-decoration-color: #008000\">│</span>\n",
       "<span style=\"color: #008000; text-decoration-color: #008000\">│</span>  <span style=\"color: #00ff00; text-decoration-color: #00ff00\">features are still work-in-progress (WIP). This will allow us to showcase the progress made and gather </span>        <span style=\"color: #008000; text-decoration-color: #008000\">│</span>\n",
       "<span style=\"color: #008000; text-decoration-color: #008000\">│</span>  <span style=\"color: #00ff00; text-decoration-color: #00ff00\">valuable feedback.</span>                                                                                             <span style=\"color: #008000; text-decoration-color: #008000\">│</span>\n",
       "<span style=\"color: #008000; text-decoration-color: #008000\">│</span>                                                                                                                 <span style=\"color: #008000; text-decoration-color: #008000\">│</span>\n",
       "<span style=\"color: #008000; text-decoration-color: #008000\">│</span>  <span style=\"color: #00ff00; text-decoration-color: #00ff00\">Please let me know your thoughts on this approach. Your input is highly valued.</span>                                <span style=\"color: #008000; text-decoration-color: #008000\">│</span>\n",
       "<span style=\"color: #008000; text-decoration-color: #008000\">│</span>                                                                                                                 <span style=\"color: #008000; text-decoration-color: #008000\">│</span>\n",
       "<span style=\"color: #008000; text-decoration-color: #008000\">│</span>  <span style=\"color: #00ff00; text-decoration-color: #00ff00\">Thank you,</span>                                                                                                     <span style=\"color: #008000; text-decoration-color: #008000\">│</span>\n",
       "<span style=\"color: #008000; text-decoration-color: #008000\">│</span>  <span style=\"color: #00ff00; text-decoration-color: #00ff00\">[Your Name]</span>                                                                                                    <span style=\"color: #008000; text-decoration-color: #008000\">│</span>\n",
       "<span style=\"color: #008000; text-decoration-color: #008000\">│</span>                                                                                                                 <span style=\"color: #008000; text-decoration-color: #008000\">│</span>\n",
       "<span style=\"color: #008000; text-decoration-color: #008000\">╰─────────────────────────────────────────────────────────────────────────────────────────────────────────────────╯</span>\n",
       "</pre>\n"
      ]
     },
     "metadata": {},
     "output_type": "display_data"
    },
    {
     "data": {
      "text/plain": [
       "\n"
      ],
      "text/html": [
       "<pre style=\"white-space:pre;overflow-x:auto;line-height:normal;font-family:Menlo,'DejaVu Sans Mono',consolas,'Courier New',monospace\">\n",
       "</pre>\n"
      ]
     },
     "metadata": {},
     "output_type": "display_data"
    },
    {
     "data": {
      "text/plain": [],
      "text/html": [
       "<pre style=\"white-space:pre;overflow-x:auto;line-height:normal;font-family:Menlo,'DejaVu Sans Mono',consolas,'Courier New',monospace\"></pre>\n"
      ]
     },
     "metadata": {},
     "output_type": "display_data"
    },
    {
     "data": {
      "text/plain": [
       "\u001B[32m╭─\u001B[0m\u001B[32m───────────────────────────────────────────────\u001B[0m\u001B[32m Task Completion \u001B[0m\u001B[32m───────────────────────────────────────────────\u001B[0m\u001B[32m─╮\u001B[0m\n",
       "\u001B[32m│\u001B[0m                                                                                                                 \u001B[32m│\u001B[0m\n",
       "\u001B[32m│\u001B[0m  \u001B[1;32mTask Completed\u001B[0m                                                                                                 \u001B[32m│\u001B[0m\n",
       "\u001B[32m│\u001B[0m  \u001B[37mName: \u001B[0m\u001B[32mdb3e9a7d-ec38-45a4-8996-01f31a99fcdd\u001B[0m                                                                     \u001B[32m│\u001B[0m\n",
       "\u001B[32m│\u001B[0m  \u001B[37mAgent: \u001B[0m\u001B[32mEmail Assistant Agent\u001B[0m                                                                                   \u001B[32m│\u001B[0m\n",
       "\u001B[32m│\u001B[0m  \u001B[37mTool Args: \u001B[0m                                                                                                    \u001B[32m│\u001B[0m\n",
       "\u001B[32m│\u001B[0m                                                                                                                 \u001B[32m│\u001B[0m\n",
       "\u001B[32m│\u001B[0m                                                                                                                 \u001B[32m│\u001B[0m\n",
       "\u001B[32m╰─────────────────────────────────────────────────────────────────────────────────────────────────────────────────╯\u001B[0m\n"
      ],
      "text/html": [
       "<pre style=\"white-space:pre;overflow-x:auto;line-height:normal;font-family:Menlo,'DejaVu Sans Mono',consolas,'Courier New',monospace\"><span style=\"color: #008000; text-decoration-color: #008000\">╭──────────────────────────────────────────────── Task Completion ────────────────────────────────────────────────╮</span>\n",
       "<span style=\"color: #008000; text-decoration-color: #008000\">│</span>                                                                                                                 <span style=\"color: #008000; text-decoration-color: #008000\">│</span>\n",
       "<span style=\"color: #008000; text-decoration-color: #008000\">│</span>  <span style=\"color: #008000; text-decoration-color: #008000; font-weight: bold\">Task Completed</span>                                                                                                 <span style=\"color: #008000; text-decoration-color: #008000\">│</span>\n",
       "<span style=\"color: #008000; text-decoration-color: #008000\">│</span>  <span style=\"color: #c0c0c0; text-decoration-color: #c0c0c0\">Name: </span><span style=\"color: #008000; text-decoration-color: #008000\">db3e9a7d-ec38-45a4-8996-01f31a99fcdd</span>                                                                     <span style=\"color: #008000; text-decoration-color: #008000\">│</span>\n",
       "<span style=\"color: #008000; text-decoration-color: #008000\">│</span>  <span style=\"color: #c0c0c0; text-decoration-color: #c0c0c0\">Agent: </span><span style=\"color: #008000; text-decoration-color: #008000\">Email Assistant Agent</span>                                                                                   <span style=\"color: #008000; text-decoration-color: #008000\">│</span>\n",
       "<span style=\"color: #008000; text-decoration-color: #008000\">│</span>  <span style=\"color: #c0c0c0; text-decoration-color: #c0c0c0\">Tool Args: </span>                                                                                                    <span style=\"color: #008000; text-decoration-color: #008000\">│</span>\n",
       "<span style=\"color: #008000; text-decoration-color: #008000\">│</span>                                                                                                                 <span style=\"color: #008000; text-decoration-color: #008000\">│</span>\n",
       "<span style=\"color: #008000; text-decoration-color: #008000\">│</span>                                                                                                                 <span style=\"color: #008000; text-decoration-color: #008000\">│</span>\n",
       "<span style=\"color: #008000; text-decoration-color: #008000\">╰─────────────────────────────────────────────────────────────────────────────────────────────────────────────────╯</span>\n",
       "</pre>\n"
      ]
     },
     "metadata": {},
     "output_type": "display_data"
    },
    {
     "data": {
      "text/plain": [
       "\n"
      ],
      "text/html": [
       "<pre style=\"white-space:pre;overflow-x:auto;line-height:normal;font-family:Menlo,'DejaVu Sans Mono',consolas,'Courier New',monospace\">\n",
       "</pre>\n"
      ]
     },
     "metadata": {},
     "output_type": "display_data"
    },
    {
     "data": {
      "text/plain": [
       "\u001B[32m╭─\u001B[0m\u001B[32m───────────────────────────────────────────────\u001B[0m\u001B[32m Crew Completion \u001B[0m\u001B[32m───────────────────────────────────────────────\u001B[0m\u001B[32m─╮\u001B[0m\n",
       "\u001B[32m│\u001B[0m                                                                                                                 \u001B[32m│\u001B[0m\n",
       "\u001B[32m│\u001B[0m  \u001B[1;32mCrew Execution Completed\u001B[0m                                                                                       \u001B[32m│\u001B[0m\n",
       "\u001B[32m│\u001B[0m  \u001B[37mName: \u001B[0m\u001B[32mcrew\u001B[0m                                                                                                     \u001B[32m│\u001B[0m\n",
       "\u001B[32m│\u001B[0m  \u001B[37mID: \u001B[0m\u001B[32mba1bf041-9fa6-4dd3-837d-9b6b2a45b1a1\u001B[0m                                                                       \u001B[32m│\u001B[0m\n",
       "\u001B[32m│\u001B[0m  \u001B[37mTool Args: \u001B[0m                                                                                                    \u001B[32m│\u001B[0m\n",
       "\u001B[32m│\u001B[0m  \u001B[37mFinal Output: Subject: Demo Readiness and Presentation Strategy\u001B[0m                                                \u001B[32m│\u001B[0m\n",
       "\u001B[32m│\u001B[0m                                                                                                                 \u001B[32m│\u001B[0m\n",
       "\u001B[32m│\u001B[0m  \u001B[37mDear Team,\u001B[0m                                                                                                     \u001B[32m│\u001B[0m\n",
       "\u001B[32m│\u001B[0m                                                                                                                 \u001B[32m│\u001B[0m\n",
       "\u001B[32m│\u001B[0m  \u001B[37mI am writing to provide an update on the demo. While it is nearing completion, there are still some \u001B[0m           \u001B[32m│\u001B[0m\n",
       "\u001B[32m│\u001B[0m  \u001B[37moutstanding items that require further attention.\u001B[0m                                                              \u001B[32m│\u001B[0m\n",
       "\u001B[32m│\u001B[0m                                                                                                                 \u001B[32m│\u001B[0m\n",
       "\u001B[32m│\u001B[0m  \u001B[37mI propose that we proceed with presenting the current version of the demo, clearly indicating that certain \u001B[0m    \u001B[32m│\u001B[0m\n",
       "\u001B[32m│\u001B[0m  \u001B[37mfeatures are still work-in-progress (WIP). This will allow us to showcase the progress made and gather \u001B[0m        \u001B[32m│\u001B[0m\n",
       "\u001B[32m│\u001B[0m  \u001B[37mvaluable feedback.\u001B[0m                                                                                             \u001B[32m│\u001B[0m\n",
       "\u001B[32m│\u001B[0m                                                                                                                 \u001B[32m│\u001B[0m\n",
       "\u001B[32m│\u001B[0m  \u001B[37mPlease let me know your thoughts on this approach. Your input is highly valued.\u001B[0m                                \u001B[32m│\u001B[0m\n",
       "\u001B[32m│\u001B[0m                                                                                                                 \u001B[32m│\u001B[0m\n",
       "\u001B[32m│\u001B[0m  \u001B[37mThank you,\u001B[0m                                                                                                     \u001B[32m│\u001B[0m\n",
       "\u001B[32m│\u001B[0m  \u001B[37m[Your Name]\u001B[0m                                                                                                    \u001B[32m│\u001B[0m\n",
       "\u001B[32m│\u001B[0m                                                                                                                 \u001B[32m│\u001B[0m\n",
       "\u001B[32m│\u001B[0m                                                                                                                 \u001B[32m│\u001B[0m\n",
       "\u001B[32m╰─────────────────────────────────────────────────────────────────────────────────────────────────────────────────╯\u001B[0m\n"
      ],
      "text/html": [
       "<pre style=\"white-space:pre;overflow-x:auto;line-height:normal;font-family:Menlo,'DejaVu Sans Mono',consolas,'Courier New',monospace\"><span style=\"color: #008000; text-decoration-color: #008000\">╭──────────────────────────────────────────────── Crew Completion ────────────────────────────────────────────────╮</span>\n",
       "<span style=\"color: #008000; text-decoration-color: #008000\">│</span>                                                                                                                 <span style=\"color: #008000; text-decoration-color: #008000\">│</span>\n",
       "<span style=\"color: #008000; text-decoration-color: #008000\">│</span>  <span style=\"color: #008000; text-decoration-color: #008000; font-weight: bold\">Crew Execution Completed</span>                                                                                       <span style=\"color: #008000; text-decoration-color: #008000\">│</span>\n",
       "<span style=\"color: #008000; text-decoration-color: #008000\">│</span>  <span style=\"color: #c0c0c0; text-decoration-color: #c0c0c0\">Name: </span><span style=\"color: #008000; text-decoration-color: #008000\">crew</span>                                                                                                     <span style=\"color: #008000; text-decoration-color: #008000\">│</span>\n",
       "<span style=\"color: #008000; text-decoration-color: #008000\">│</span>  <span style=\"color: #c0c0c0; text-decoration-color: #c0c0c0\">ID: </span><span style=\"color: #008000; text-decoration-color: #008000\">ba1bf041-9fa6-4dd3-837d-9b6b2a45b1a1</span>                                                                       <span style=\"color: #008000; text-decoration-color: #008000\">│</span>\n",
       "<span style=\"color: #008000; text-decoration-color: #008000\">│</span>  <span style=\"color: #c0c0c0; text-decoration-color: #c0c0c0\">Tool Args: </span>                                                                                                    <span style=\"color: #008000; text-decoration-color: #008000\">│</span>\n",
       "<span style=\"color: #008000; text-decoration-color: #008000\">│</span>  <span style=\"color: #c0c0c0; text-decoration-color: #c0c0c0\">Final Output: Subject: Demo Readiness and Presentation Strategy</span>                                                <span style=\"color: #008000; text-decoration-color: #008000\">│</span>\n",
       "<span style=\"color: #008000; text-decoration-color: #008000\">│</span>                                                                                                                 <span style=\"color: #008000; text-decoration-color: #008000\">│</span>\n",
       "<span style=\"color: #008000; text-decoration-color: #008000\">│</span>  <span style=\"color: #c0c0c0; text-decoration-color: #c0c0c0\">Dear Team,</span>                                                                                                     <span style=\"color: #008000; text-decoration-color: #008000\">│</span>\n",
       "<span style=\"color: #008000; text-decoration-color: #008000\">│</span>                                                                                                                 <span style=\"color: #008000; text-decoration-color: #008000\">│</span>\n",
       "<span style=\"color: #008000; text-decoration-color: #008000\">│</span>  <span style=\"color: #c0c0c0; text-decoration-color: #c0c0c0\">I am writing to provide an update on the demo. While it is nearing completion, there are still some </span>           <span style=\"color: #008000; text-decoration-color: #008000\">│</span>\n",
       "<span style=\"color: #008000; text-decoration-color: #008000\">│</span>  <span style=\"color: #c0c0c0; text-decoration-color: #c0c0c0\">outstanding items that require further attention.</span>                                                              <span style=\"color: #008000; text-decoration-color: #008000\">│</span>\n",
       "<span style=\"color: #008000; text-decoration-color: #008000\">│</span>                                                                                                                 <span style=\"color: #008000; text-decoration-color: #008000\">│</span>\n",
       "<span style=\"color: #008000; text-decoration-color: #008000\">│</span>  <span style=\"color: #c0c0c0; text-decoration-color: #c0c0c0\">I propose that we proceed with presenting the current version of the demo, clearly indicating that certain </span>    <span style=\"color: #008000; text-decoration-color: #008000\">│</span>\n",
       "<span style=\"color: #008000; text-decoration-color: #008000\">│</span>  <span style=\"color: #c0c0c0; text-decoration-color: #c0c0c0\">features are still work-in-progress (WIP). This will allow us to showcase the progress made and gather </span>        <span style=\"color: #008000; text-decoration-color: #008000\">│</span>\n",
       "<span style=\"color: #008000; text-decoration-color: #008000\">│</span>  <span style=\"color: #c0c0c0; text-decoration-color: #c0c0c0\">valuable feedback.</span>                                                                                             <span style=\"color: #008000; text-decoration-color: #008000\">│</span>\n",
       "<span style=\"color: #008000; text-decoration-color: #008000\">│</span>                                                                                                                 <span style=\"color: #008000; text-decoration-color: #008000\">│</span>\n",
       "<span style=\"color: #008000; text-decoration-color: #008000\">│</span>  <span style=\"color: #c0c0c0; text-decoration-color: #c0c0c0\">Please let me know your thoughts on this approach. Your input is highly valued.</span>                                <span style=\"color: #008000; text-decoration-color: #008000\">│</span>\n",
       "<span style=\"color: #008000; text-decoration-color: #008000\">│</span>                                                                                                                 <span style=\"color: #008000; text-decoration-color: #008000\">│</span>\n",
       "<span style=\"color: #008000; text-decoration-color: #008000\">│</span>  <span style=\"color: #c0c0c0; text-decoration-color: #c0c0c0\">Thank you,</span>                                                                                                     <span style=\"color: #008000; text-decoration-color: #008000\">│</span>\n",
       "<span style=\"color: #008000; text-decoration-color: #008000\">│</span>  <span style=\"color: #c0c0c0; text-decoration-color: #c0c0c0\">[Your Name]</span>                                                                                                    <span style=\"color: #008000; text-decoration-color: #008000\">│</span>\n",
       "<span style=\"color: #008000; text-decoration-color: #008000\">│</span>                                                                                                                 <span style=\"color: #008000; text-decoration-color: #008000\">│</span>\n",
       "<span style=\"color: #008000; text-decoration-color: #008000\">│</span>                                                                                                                 <span style=\"color: #008000; text-decoration-color: #008000\">│</span>\n",
       "<span style=\"color: #008000; text-decoration-color: #008000\">╰─────────────────────────────────────────────────────────────────────────────────────────────────────────────────╯</span>\n",
       "</pre>\n"
      ]
     },
     "metadata": {},
     "output_type": "display_data"
    },
    {
     "data": {
      "text/plain": [
       "\n"
      ],
      "text/html": [
       "<pre style=\"white-space:pre;overflow-x:auto;line-height:normal;font-family:Menlo,'DejaVu Sans Mono',consolas,'Courier New',monospace\">\n",
       "</pre>\n"
      ]
     },
     "metadata": {},
     "output_type": "display_data"
    },
    {
     "name": "stdout",
     "output_type": "stream",
     "text": [
      "Subject: Demo Readiness and Presentation Strategy\n",
      "\n",
      "Dear Team,\n",
      "\n",
      "I am writing to provide an update on the demo. While it is nearing completion, there are still some outstanding items that require further attention.\n",
      "\n",
      "I propose that we proceed with presenting the current version of the demo, clearly indicating that certain features are still work-in-progress (WIP). This will allow us to showcase the progress made and gather valuable feedback.\n",
      "\n",
      "Please let me know your thoughts on this approach. Your input is highly valued.\n",
      "\n",
      "Thank you,\n",
      "[Your Name]\n"
     ]
    }
   ],
   "execution_count": 4
  }
 ],
 "metadata": {
  "kernelspec": {
   "display_name": "Python 3",
   "language": "python",
   "name": "python3"
  },
  "language_info": {
   "codemirror_mode": {
    "name": "ipython",
    "version": 2
   },
   "file_extension": ".py",
   "mimetype": "text/x-python",
   "name": "python",
   "nbconvert_exporter": "python",
   "pygments_lexer": "ipython2",
   "version": "2.7.6"
  }
 },
 "nbformat": 4,
 "nbformat_minor": 5
}
